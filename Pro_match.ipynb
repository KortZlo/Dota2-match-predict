{
  "cells": [
    {
      "cell_type": "markdown",
      "metadata": {
        "id": "t-f6cd0PZMPL"
      },
      "source": [
        "# Introduction"
      ]
    },
    {
      "cell_type": "code",
      "execution_count": null,
      "metadata": {
        "id": "utahQwCZfSxb"
      },
      "outputs": [],
      "source": [
        "# Imports\n",
        "import pandas as pd\n",
        "import requests\n",
        "import time\n",
        "import json\n",
        "from pathlib import Path\n",
        "import seaborn as sns\n",
        "import matplotlib.pyplot as plt\n",
        "import numpy as np\n",
        "import datetime"
      ]
    },
    {
      "cell_type": "code",
      "source": [
        "# The main function that executes the API request. Json is stored in a dataframe and filtered for patch 7.33\n",
        "def get_league_data(tournament_id):\n",
        "    r = requests.get(f'https://api.opendota.com/api/leagues/{tournament_id}/matches')\n",
        "    matches = r.json()\n",
        "    df = pd.DataFrame.from_dict(matches)\n",
        "    df = df.query('start_time > 1682035200')\n",
        "    return df"
      ],
      "metadata": {
        "id": "u0zbTDO3yV9j"
      },
      "execution_count": null,
      "outputs": []
    },
    {
      "cell_type": "code",
      "source": [
        "# A function connecting dataframes\n",
        "def concat (df_1, df_2):\n",
        "    frames = [df_1, df_2]\n",
        "    df_con = pd.concat(frames)\n",
        "    return df_con"
      ],
      "metadata": {
        "id": "N1X7Q8VxyV9k"
      },
      "execution_count": null,
      "outputs": []
    },
    {
      "cell_type": "markdown",
      "metadata": {
        "id": "26jh1z5SZWSR"
      },
      "source": [
        "# Majors"
      ]
    },
    {
      "cell_type": "markdown",
      "source": [
        "tournament_id = 15251\n",
        "\n",
        "league_name = berlin_major"
      ],
      "metadata": {
        "id": "CPDz4kAryvVw"
      }
    },
    {
      "cell_type": "code",
      "source": [
        "df_berlin_major = get_league_data(15251)\n",
        "df_berlin_major.shape"
      ],
      "metadata": {
        "colab": {
          "base_uri": "https://localhost:8080/"
        },
        "id": "I45LkN9ny8Zs",
        "outputId": "7fb74097-3f54-438b-ea98-14edd820751d"
      },
      "execution_count": null,
      "outputs": [
        {
          "output_type": "execute_result",
          "data": {
            "text/plain": [
              "(191, 39)"
            ]
          },
          "metadata": {},
          "execution_count": 66
        }
      ]
    },
    {
      "cell_type": "markdown",
      "source": [
        "tournament_id = 15438\n",
        "\n",
        "league_name = bali_major"
      ],
      "metadata": {
        "id": "EFRNnIe2zvil"
      }
    },
    {
      "cell_type": "code",
      "source": [
        "df_bali_major = get_league_data(15438)\n",
        "df_bali_major.shape"
      ],
      "metadata": {
        "colab": {
          "base_uri": "https://localhost:8080/"
        },
        "outputId": "c6f39de2-99e9-41ac-b69e-e44208ce9877",
        "id": "gcgsOvo4z3sF"
      },
      "execution_count": null,
      "outputs": [
        {
          "output_type": "execute_result",
          "data": {
            "text/plain": [
              "(146, 39)"
            ]
          },
          "metadata": {},
          "execution_count": 67
        }
      ]
    },
    {
      "cell_type": "markdown",
      "source": [
        "# DPC Summer Tour - Closed Qualiriers\n",
        "\n"
      ],
      "metadata": {
        "id": "CJEsK6wNOFj5"
      }
    },
    {
      "cell_type": "code",
      "source": [
        "# DPC 2023 NA Summer Tour Closed Qualifiers\n",
        "df_na_cq = get_league_data(15348)\n",
        "df_na_cq.shape"
      ],
      "metadata": {
        "id": "WjpbxkMgfTnz",
        "colab": {
          "base_uri": "https://localhost:8080/"
        },
        "outputId": "6f241901-c021-4953-81bb-7e16de2f4b6f"
      },
      "execution_count": null,
      "outputs": [
        {
          "output_type": "execute_result",
          "data": {
            "text/plain": [
              "(25, 39)"
            ]
          },
          "metadata": {},
          "execution_count": 68
        }
      ]
    },
    {
      "cell_type": "code",
      "source": [
        "# DPC 2023 SA Summer Tour Closed Qualifiers\n",
        "df_sa_cq = get_league_data(15364)\n",
        "df_sa_cq.shape"
      ],
      "metadata": {
        "id": "mQn2ZgnUeyyv",
        "colab": {
          "base_uri": "https://localhost:8080/"
        },
        "outputId": "b561b8a0-0d73-4578-d122-c1b937a8a51b"
      },
      "execution_count": null,
      "outputs": [
        {
          "output_type": "execute_result",
          "data": {
            "text/plain": [
              "(30, 39)"
            ]
          },
          "metadata": {},
          "execution_count": 69
        }
      ]
    },
    {
      "cell_type": "code",
      "source": [
        "# DPC 2023 CN Summer Tour Closed Qualifiers\n",
        "df_cn_cq = get_league_data(15385)\n",
        "df_cn_cq.shape"
      ],
      "metadata": {
        "id": "V0SDgRnBOzmo",
        "colab": {
          "base_uri": "https://localhost:8080/"
        },
        "outputId": "2116c249-79f1-43e5-ec58-bde362c7e92b"
      },
      "execution_count": null,
      "outputs": [
        {
          "output_type": "execute_result",
          "data": {
            "text/plain": [
              "(22, 39)"
            ]
          },
          "metadata": {},
          "execution_count": 70
        }
      ]
    },
    {
      "cell_type": "code",
      "source": [
        "# DPC 2023 CEA Summer Tour Closed Qualifiers\n",
        "df_cea_cq = get_league_data(15377)\n",
        "df_cea_cq.shape"
      ],
      "metadata": {
        "id": "naNbDP1GPCmr",
        "colab": {
          "base_uri": "https://localhost:8080/"
        },
        "outputId": "29b82c78-d41b-4309-b7bc-e0c53d4cbd87"
      },
      "execution_count": null,
      "outputs": [
        {
          "output_type": "execute_result",
          "data": {
            "text/plain": [
              "(32, 39)"
            ]
          },
          "metadata": {},
          "execution_count": 71
        }
      ]
    },
    {
      "cell_type": "code",
      "source": [
        "# DPC 2023 WEU Summer Tour Closed Qualifiers\n",
        "df_weu_cq = get_league_data(15349)\n",
        "df_weu_cq.shape"
      ],
      "metadata": {
        "id": "NToDR2RoPTRX",
        "colab": {
          "base_uri": "https://localhost:8080/"
        },
        "outputId": "4ac2392e-a62f-494d-c73a-2592a504d64a"
      },
      "execution_count": null,
      "outputs": [
        {
          "output_type": "execute_result",
          "data": {
            "text/plain": [
              "(26, 39)"
            ]
          },
          "metadata": {},
          "execution_count": 72
        }
      ]
    },
    {
      "cell_type": "code",
      "source": [
        "# DPC 2023 EEU Summer Tour Closed Qualifiers\n",
        "df_eeu_cq = get_league_data(15334)\n",
        "df_eeu_cq.shape"
      ],
      "metadata": {
        "id": "LNHyUd3RPTRZ",
        "colab": {
          "base_uri": "https://localhost:8080/"
        },
        "outputId": "3e3e4de0-54cf-4a66-8d13-b9554c5d251c"
      },
      "execution_count": null,
      "outputs": [
        {
          "output_type": "execute_result",
          "data": {
            "text/plain": [
              "(29, 39)"
            ]
          },
          "metadata": {},
          "execution_count": 73
        }
      ]
    },
    {
      "cell_type": "markdown",
      "source": [
        "# DPC Summer Tour - Division I"
      ],
      "metadata": {
        "id": "_vO9EYm6Pslk"
      }
    },
    {
      "cell_type": "code",
      "source": [
        "# DPC 2023 SA Summer Tour Division I\n",
        "df_ca_div_i = get_league_data(15365)\n",
        "df_ca_div_i.shape"
      ],
      "metadata": {
        "id": "qdzcIcWJQtFS",
        "colab": {
          "base_uri": "https://localhost:8080/"
        },
        "outputId": "f78f949c-2a4c-4064-a796-5639f3af39cb"
      },
      "execution_count": null,
      "outputs": [
        {
          "output_type": "execute_result",
          "data": {
            "text/plain": [
              "(65, 39)"
            ]
          },
          "metadata": {},
          "execution_count": 74
        }
      ]
    },
    {
      "cell_type": "code",
      "source": [
        "# DPC 2023 CEA Summer Tour Division I\n",
        "df_cea_div_i = get_league_data(15374)\n",
        "df_cea_div_i.shape"
      ],
      "metadata": {
        "id": "UJAbRqSgQtFS",
        "colab": {
          "base_uri": "https://localhost:8080/"
        },
        "outputId": "99a8fb36-5856-47a1-a673-212f976ddaee"
      },
      "execution_count": null,
      "outputs": [
        {
          "output_type": "execute_result",
          "data": {
            "text/plain": [
              "(71, 39)"
            ]
          },
          "metadata": {},
          "execution_count": 75
        }
      ]
    },
    {
      "cell_type": "code",
      "source": [
        "# DPC 2023 WEU Summer Tour Division I\n",
        "df_weu_div_i = get_league_data(15351)\n",
        "df_weu_div_i.shape"
      ],
      "metadata": {
        "id": "fDvJ7K2EQtFT",
        "colab": {
          "base_uri": "https://localhost:8080/"
        },
        "outputId": "821ad504-5d77-4074-c295-f4d86af78d04"
      },
      "execution_count": null,
      "outputs": [
        {
          "output_type": "execute_result",
          "data": {
            "text/plain": [
              "(73, 39)"
            ]
          },
          "metadata": {},
          "execution_count": 76
        }
      ]
    },
    {
      "cell_type": "code",
      "source": [
        "# DPC 2023 EEU Summer Tour Division I\n",
        "df_eeu_div_i = get_league_data(15335)\n",
        "df_eeu_div_i.shape"
      ],
      "metadata": {
        "id": "XTMI-1HEQtFT",
        "colab": {
          "base_uri": "https://localhost:8080/"
        },
        "outputId": "362f0622-de7e-4d85-bb70-dcaacce8c7bd"
      },
      "execution_count": null,
      "outputs": [
        {
          "output_type": "execute_result",
          "data": {
            "text/plain": [
              "(73, 39)"
            ]
          },
          "metadata": {},
          "execution_count": 77
        }
      ]
    },
    {
      "cell_type": "code",
      "source": [
        "# DPC 2023 NA Summer Tour Division I\n",
        "df_na_div_i = get_league_data(15350)\n",
        "df_na_div_i.shape"
      ],
      "metadata": {
        "id": "UkIYodjKSD-D",
        "colab": {
          "base_uri": "https://localhost:8080/"
        },
        "outputId": "4a701c7b-b43f-4abc-a7a9-eadab1748b1a"
      },
      "execution_count": null,
      "outputs": [
        {
          "output_type": "execute_result",
          "data": {
            "text/plain": [
              "(72, 39)"
            ]
          },
          "metadata": {},
          "execution_count": 78
        }
      ]
    },
    {
      "cell_type": "code",
      "source": [
        "# DPC 2023 CN Summer Tour Division I\n",
        "df_cn_div_i = get_league_data(15383)\n",
        "df_cn_div_i.shape"
      ],
      "metadata": {
        "id": "ZU2ZA4fPSD-E",
        "colab": {
          "base_uri": "https://localhost:8080/"
        },
        "outputId": "73b3e729-fac6-48de-f17f-123dcdb48b07"
      },
      "execution_count": null,
      "outputs": [
        {
          "output_type": "execute_result",
          "data": {
            "text/plain": [
              "(73, 39)"
            ]
          },
          "metadata": {},
          "execution_count": 79
        }
      ]
    },
    {
      "cell_type": "markdown",
      "source": [
        "# DPC Summer Tour - Division II"
      ],
      "metadata": {
        "id": "b9Vk3yw0P1rH"
      }
    },
    {
      "cell_type": "code",
      "source": [
        "# DPC 2023 SA Summer Tour Division II\n",
        "df_ca_div_ii = get_league_data(15366)\n",
        "df_ca_div_ii.shape"
      ],
      "metadata": {
        "colab": {
          "base_uri": "https://localhost:8080/"
        },
        "outputId": "f087b57d-f626-4cac-ac32-053571e6775d",
        "id": "XeqZZ2b31yEN"
      },
      "execution_count": null,
      "outputs": [
        {
          "output_type": "execute_result",
          "data": {
            "text/plain": [
              "(67, 39)"
            ]
          },
          "metadata": {},
          "execution_count": 80
        }
      ]
    },
    {
      "cell_type": "code",
      "source": [
        "# DPC 2023 CEA Summer Tour Division II\n",
        "df_cea_div_ii = get_league_data(15375)\n",
        "df_cea_div_ii.shape"
      ],
      "metadata": {
        "colab": {
          "base_uri": "https://localhost:8080/"
        },
        "outputId": "a96c1199-b01a-49fb-c181-ea95dfdcd12b",
        "id": "X4cIe8HB1yEP"
      },
      "execution_count": null,
      "outputs": [
        {
          "output_type": "execute_result",
          "data": {
            "text/plain": [
              "(72, 39)"
            ]
          },
          "metadata": {},
          "execution_count": 81
        }
      ]
    },
    {
      "cell_type": "code",
      "source": [
        "# DPC 2023 WEU Summer Tour Division II\n",
        "df_weu_div_ii = get_league_data(15352)\n",
        "df_weu_div_ii.shape"
      ],
      "metadata": {
        "colab": {
          "base_uri": "https://localhost:8080/"
        },
        "outputId": "855dc6f0-3132-49c9-f6a7-d71b76b9a236",
        "id": "68-cYZoc1yEP"
      },
      "execution_count": null,
      "outputs": [
        {
          "output_type": "execute_result",
          "data": {
            "text/plain": [
              "(74, 39)"
            ]
          },
          "metadata": {},
          "execution_count": 82
        }
      ]
    },
    {
      "cell_type": "code",
      "source": [
        "# DPC 2023 EEU Summer Tour Division II\n",
        "df_eeu_div_ii = get_league_data(15336)\n",
        "df_eeu_div_ii.shape"
      ],
      "metadata": {
        "colab": {
          "base_uri": "https://localhost:8080/"
        },
        "outputId": "61ebf50a-db39-4341-9f43-2de99c7ec880",
        "id": "r5kVbd491yEQ"
      },
      "execution_count": null,
      "outputs": [
        {
          "output_type": "execute_result",
          "data": {
            "text/plain": [
              "(64, 39)"
            ]
          },
          "metadata": {},
          "execution_count": 83
        }
      ]
    },
    {
      "cell_type": "code",
      "source": [
        "# DPC 2023 NA Summer Tour Division II\n",
        "df_na_div_ii = get_league_data(15353)\n",
        "df_na_div_ii.shape"
      ],
      "metadata": {
        "colab": {
          "base_uri": "https://localhost:8080/"
        },
        "outputId": "ab827f60-2890-43cf-d371-91b5b5299319",
        "id": "PSNYZuIj1yER"
      },
      "execution_count": null,
      "outputs": [
        {
          "output_type": "execute_result",
          "data": {
            "text/plain": [
              "(73, 39)"
            ]
          },
          "metadata": {},
          "execution_count": 84
        }
      ]
    },
    {
      "cell_type": "code",
      "source": [
        "# DPC 2023 CN Summer Tour Division II\n",
        "df_cn_div_ii = get_league_data(15384)\n",
        "df_cn_div_ii.shape"
      ],
      "metadata": {
        "colab": {
          "base_uri": "https://localhost:8080/"
        },
        "outputId": "6c498f08-00a2-45d7-fe1c-2cb88f5feb2d",
        "id": "U5Aqo4-O1yER"
      },
      "execution_count": null,
      "outputs": [
        {
          "output_type": "execute_result",
          "data": {
            "text/plain": [
              "(72, 39)"
            ]
          },
          "metadata": {},
          "execution_count": 85
        }
      ]
    },
    {
      "cell_type": "markdown",
      "source": [
        "# Concat DPC Matches"
      ],
      "metadata": {
        "id": "nc_iUccSoUB1"
      }
    },
    {
      "cell_type": "code",
      "source": [
        "frames = [df_cn_cq, df_cea_cq, df_weu_cq, df_eeu_cq, df_sa_cq, df_na_cq]\n",
        "df_summer_tour_cq = pd.concat(frames)\n",
        "df_summer_tour_cq.shape"
      ],
      "metadata": {
        "colab": {
          "base_uri": "https://localhost:8080/"
        },
        "id": "KwcJoTh42vVi",
        "outputId": "afbadff6-571d-428d-824d-2e019298ccb9"
      },
      "execution_count": null,
      "outputs": [
        {
          "output_type": "execute_result",
          "data": {
            "text/plain": [
              "(164, 39)"
            ]
          },
          "metadata": {},
          "execution_count": 86
        }
      ]
    },
    {
      "cell_type": "code",
      "source": [
        "frames = [df_weu_div_i, df_ca_div_i, df_cea_div_i, df_eeu_div_i, df_na_div_i, df_cn_div_i]\n",
        "df_summer_tour_div_i = pd.concat(frames)\n",
        "df_summer_tour_div_i.shape"
      ],
      "metadata": {
        "id": "Oqy9mKRNZCW-",
        "colab": {
          "base_uri": "https://localhost:8080/"
        },
        "outputId": "4d369536-031f-497f-97c8-ae46c891ede7"
      },
      "execution_count": null,
      "outputs": [
        {
          "output_type": "execute_result",
          "data": {
            "text/plain": [
              "(427, 39)"
            ]
          },
          "metadata": {},
          "execution_count": 87
        }
      ]
    },
    {
      "cell_type": "code",
      "source": [
        "frames = [df_weu_div_ii, df_ca_div_ii, df_cea_div_ii, df_eeu_div_ii, df_na_div_ii, df_cn_div_ii]\n",
        "df_summer_tour_div_ii = pd.concat(frames)\n",
        "df_summer_tour_div_ii.shape"
      ],
      "metadata": {
        "colab": {
          "base_uri": "https://localhost:8080/"
        },
        "id": "v8ydDALN3N49",
        "outputId": "376bcfd6-d4cb-42d3-e4f9-38646d73330a"
      },
      "execution_count": null,
      "outputs": [
        {
          "output_type": "execute_result",
          "data": {
            "text/plain": [
              "(422, 39)"
            ]
          },
          "metadata": {},
          "execution_count": 88
        }
      ]
    },
    {
      "cell_type": "code",
      "source": [
        "frames = [df_berlin_major, df_summer_tour_div_i, df_summer_tour_div_ii, df_summer_tour_cq, df_bali_major]\n",
        "df_dpc = pd.concat(frames)\n",
        "df_dpc.shape"
      ],
      "metadata": {
        "id": "fIPErSO1aGVg",
        "colab": {
          "base_uri": "https://localhost:8080/"
        },
        "outputId": "035f4368-8c4e-4789-e1f7-228fc307e95d"
      },
      "execution_count": null,
      "outputs": [
        {
          "output_type": "execute_result",
          "data": {
            "text/plain": [
              "(1350, 39)"
            ]
          },
          "metadata": {},
          "execution_count": 89
        }
      ]
    },
    {
      "cell_type": "markdown",
      "source": [
        "# Professionals leagues"
      ],
      "metadata": {
        "id": "seeWIlqKmqTR"
      }
    },
    {
      "cell_type": "code",
      "source": [
        "# Ancients Leaguee\n",
        "df_ancients_leaguee = get_league_data(15109)\n",
        "df_ancients_leaguee.shape"
      ],
      "metadata": {
        "colab": {
          "base_uri": "https://localhost:8080/"
        },
        "id": "5gLTM7lbms6H",
        "outputId": "323ba697-ba3a-4f1e-9ebc-8ae775e61cf8"
      },
      "execution_count": null,
      "outputs": [
        {
          "output_type": "execute_result",
          "data": {
            "text/plain": [
              "(716, 39)"
            ]
          },
          "metadata": {},
          "execution_count": 125
        }
      ]
    },
    {
      "cell_type": "code",
      "source": [
        "# Destiny League\n",
        "df_destiny_league = get_league_data(15026)\n",
        "df_destiny_league.shape"
      ],
      "metadata": {
        "colab": {
          "base_uri": "https://localhost:8080/"
        },
        "id": "5u4fpkjurgvN",
        "outputId": "51312f7a-2464-4a66-f1de-1953ef42400c"
      },
      "execution_count": null,
      "outputs": [
        {
          "output_type": "execute_result",
          "data": {
            "text/plain": [
              "(606, 39)"
            ]
          },
          "metadata": {},
          "execution_count": 126
        }
      ]
    },
    {
      "cell_type": "code",
      "source": [
        "# Space League\n",
        "df_space_league = get_league_data(15257)\n",
        "df_space_league.shape"
      ],
      "metadata": {
        "colab": {
          "base_uri": "https://localhost:8080/"
        },
        "outputId": "aed3862c-dab1-4063-a93d-15c28c0a2c0b",
        "id": "YZEA4jSmtsQy"
      },
      "execution_count": null,
      "outputs": [
        {
          "output_type": "execute_result",
          "data": {
            "text/plain": [
              "(500, 39)"
            ]
          },
          "metadata": {},
          "execution_count": 127
        }
      ]
    },
    {
      "cell_type": "code",
      "source": [
        "# European pro league 2022-2023 season\n",
        "df_european_pro_league = get_league_data(14691)\n",
        "df_european_pro_league.shape"
      ],
      "metadata": {
        "colab": {
          "base_uri": "https://localhost:8080/"
        },
        "outputId": "eeeb3341-d382-49cc-92a7-297ca89f5a68",
        "id": "OaFmFS-Xudlz"
      },
      "execution_count": null,
      "outputs": [
        {
          "output_type": "execute_result",
          "data": {
            "text/plain": [
              "(198, 39)"
            ]
          },
          "metadata": {},
          "execution_count": 128
        }
      ]
    },
    {
      "cell_type": "code",
      "source": [
        "# Sow Cup\n",
        "df_sow_cup = get_league_data(15382)\n",
        "df_sow_cup.shape"
      ],
      "metadata": {
        "colab": {
          "base_uri": "https://localhost:8080/"
        },
        "outputId": "c4b926a1-c8cc-439a-bb87-aaa5d600dda8",
        "id": "O61uMW0Gu9WE"
      },
      "execution_count": null,
      "outputs": [
        {
          "output_type": "execute_result",
          "data": {
            "text/plain": [
              "(103, 39)"
            ]
          },
          "metadata": {},
          "execution_count": 129
        }
      ]
    },
    {
      "cell_type": "code",
      "source": [
        "# Ultras dota pro league\n",
        "df_ultras_dota_pro_league = get_league_data(14915)\n",
        "df_ultras_dota_pro_league.shape"
      ],
      "metadata": {
        "colab": {
          "base_uri": "https://localhost:8080/"
        },
        "outputId": "c0f028c9-2b91-4959-b121-c532627a77b4",
        "id": "PXYJ6oaxvK85"
      },
      "execution_count": null,
      "outputs": [
        {
          "output_type": "execute_result",
          "data": {
            "text/plain": [
              "(989, 39)"
            ]
          },
          "metadata": {},
          "execution_count": 130
        }
      ]
    },
    {
      "cell_type": "code",
      "source": [
        "# Winline insight dota2 season 3\n",
        "df_winline_insight_season_3 = get_league_data(15344)\n",
        "df_winline_insight_season_3.shape"
      ],
      "metadata": {
        "colab": {
          "base_uri": "https://localhost:8080/"
        },
        "outputId": "28870124-bc4d-400b-c22e-0a4ef4d87ba3",
        "id": "oQxDUfyE2iFR"
      },
      "execution_count": null,
      "outputs": [
        {
          "output_type": "execute_result",
          "data": {
            "text/plain": [
              "(60, 39)"
            ]
          },
          "metadata": {},
          "execution_count": 131
        }
      ]
    },
    {
      "cell_type": "code",
      "source": [
        "# Esportsbattle sc8\n",
        "df_esportsbattle_sc8 = get_league_data(15310)\n",
        "df_esportsbattle_sc8.shape"
      ],
      "metadata": {
        "colab": {
          "base_uri": "https://localhost:8080/"
        },
        "outputId": "dbd5e0c7-a95f-485c-e86d-05062d3d6f22",
        "id": "-nNGOMrM8UZB"
      },
      "execution_count": null,
      "outputs": [
        {
          "output_type": "execute_result",
          "data": {
            "text/plain": [
              "(59, 39)"
            ]
          },
          "metadata": {},
          "execution_count": 132
        }
      ]
    },
    {
      "cell_type": "code",
      "source": [
        "# Esportsbattle sc7\n",
        "df_esportsbattle_sc7 = get_league_data(15309)\n",
        "df_esportsbattle_sc7.shape"
      ],
      "metadata": {
        "colab": {
          "base_uri": "https://localhost:8080/"
        },
        "outputId": "77c7dca8-ea2f-405f-efab-f350e105aca1",
        "id": "ReeJtnt18f0R"
      },
      "execution_count": null,
      "outputs": [
        {
          "output_type": "execute_result",
          "data": {
            "text/plain": [
              "(100, 39)"
            ]
          },
          "metadata": {},
          "execution_count": 133
        }
      ]
    },
    {
      "cell_type": "code",
      "source": [
        "# Titan league\n",
        "df_titan_league = get_league_data(15325)\n",
        "df_titan_league.shape"
      ],
      "metadata": {
        "colab": {
          "base_uri": "https://localhost:8080/"
        },
        "outputId": "61dadc92-76bd-45e0-dfd0-a6d3978805a6",
        "id": "598Z1xO38mgR"
      },
      "execution_count": null,
      "outputs": [
        {
          "output_type": "execute_result",
          "data": {
            "text/plain": [
              "(63, 39)"
            ]
          },
          "metadata": {},
          "execution_count": 134
        }
      ]
    },
    {
      "cell_type": "code",
      "source": [
        "# Pinnacle cup malta vibes 2\n",
        "df_pinnacle_cup_malta_vibes_2 = get_league_data(15286)\n",
        "df_pinnacle_cup_malta_vibes_2.shape"
      ],
      "metadata": {
        "colab": {
          "base_uri": "https://localhost:8080/"
        },
        "outputId": "781bf379-1794-48f8-af25-ef5f14067088",
        "id": "3nbNS5N9XDMG"
      },
      "execution_count": null,
      "outputs": [
        {
          "output_type": "execute_result",
          "data": {
            "text/plain": [
              "(85, 39)"
            ]
          },
          "metadata": {},
          "execution_count": 135
        }
      ]
    },
    {
      "cell_type": "code",
      "source": [
        "# Tdl pro series summer season\n",
        "df_tdl_pro_series_summer_season = get_league_data(15213)\n",
        "df_tdl_pro_series_summer_season.shape"
      ],
      "metadata": {
        "colab": {
          "base_uri": "https://localhost:8080/"
        },
        "outputId": "a006dedf-14c2-4459-bdd8-0ab9c0cd0e86",
        "id": "kKz9dhU95YKq"
      },
      "execution_count": null,
      "outputs": [
        {
          "output_type": "execute_result",
          "data": {
            "text/plain": [
              "(82, 39)"
            ]
          },
          "metadata": {},
          "execution_count": 136
        }
      ]
    },
    {
      "cell_type": "code",
      "source": [
        "# Tdl sea-pro series summer season\n",
        "df_tdl_sea_pro_series_summer_season = get_league_data(15368)\n",
        "df_tdl_sea_pro_series_summer_season.shape"
      ],
      "metadata": {
        "colab": {
          "base_uri": "https://localhost:8080/"
        },
        "outputId": "fe0a82f5-0ced-49b2-b155-2d2a8810648a",
        "id": "nc6SJxT0_JuN"
      },
      "execution_count": null,
      "outputs": [
        {
          "output_type": "execute_result",
          "data": {
            "text/plain": [
              "(37, 39)"
            ]
          },
          "metadata": {},
          "execution_count": 137
        }
      ]
    },
    {
      "cell_type": "code",
      "source": [
        "# 1xplore series latam 4\n",
        "df_1xplore_series_latam_4 = get_league_data(15269)\n",
        "df_1xplore_series_latam_4.shape"
      ],
      "metadata": {
        "colab": {
          "base_uri": "https://localhost:8080/"
        },
        "outputId": "999dc5c7-0699-44d6-8d92-aef31fce6f1b",
        "id": "0Jt-mPqt_gTY"
      },
      "execution_count": null,
      "outputs": [
        {
          "output_type": "execute_result",
          "data": {
            "text/plain": [
              "(41, 39)"
            ]
          },
          "metadata": {},
          "execution_count": 138
        }
      ]
    },
    {
      "cell_type": "code",
      "source": [
        "# Youtube sivvit big russian show\n",
        "df_sivvit = get_league_data(12903)\n",
        "df_sivvit.shape"
      ],
      "metadata": {
        "colab": {
          "base_uri": "https://localhost:8080/"
        },
        "outputId": "6e9914c3-b2e4-4b14-d268-9f359ae51a1f",
        "id": "QYE_uqzMAPpJ"
      },
      "execution_count": null,
      "outputs": [
        {
          "output_type": "execute_result",
          "data": {
            "text/plain": [
              "(122, 39)"
            ]
          },
          "metadata": {},
          "execution_count": 139
        }
      ]
    },
    {
      "cell_type": "code",
      "source": [
        "# Esportsbattle dota2 smc2\n",
        "df_esportsbattle_dota2_smc2 = get_league_data(15427)\n",
        "df_esportsbattle_dota2_smc2.shape"
      ],
      "metadata": {
        "colab": {
          "base_uri": "https://localhost:8080/"
        },
        "outputId": "ecc014a5-edb2-47cd-988a-4089ec780264",
        "id": "5xfGgAznQltT"
      },
      "execution_count": null,
      "outputs": [
        {
          "output_type": "execute_result",
          "data": {
            "text/plain": [
              "(105, 39)"
            ]
          },
          "metadata": {},
          "execution_count": 140
        }
      ]
    },
    {
      "cell_type": "code",
      "source": [
        "# Esportsbattle dota2 smc1\n",
        "df_esportsbattle_dota2_smc1 = get_league_data(15426)\n",
        "df_esportsbattle_dota2_smc1.shape"
      ],
      "metadata": {
        "colab": {
          "base_uri": "https://localhost:8080/"
        },
        "outputId": "20cc6b8f-2e46-4327-e556-1f96f695e516",
        "id": "ew6iwQoiQ2IY"
      },
      "execution_count": null,
      "outputs": [
        {
          "output_type": "execute_result",
          "data": {
            "text/plain": [
              "(60, 39)"
            ]
          },
          "metadata": {},
          "execution_count": 141
        }
      ]
    },
    {
      "cell_type": "code",
      "source": [
        "# Dreamleague season 20\n",
        "df_dreamleague_season_20 = get_league_data(15439)\n",
        "df_dreamleague_season_20.shape"
      ],
      "metadata": {
        "colab": {
          "base_uri": "https://localhost:8080/"
        },
        "outputId": "f79dcfbc-2f83-4e13-ac2a-5221d4c21ea2",
        "id": "oUONP10ARieP"
      },
      "execution_count": null,
      "outputs": [
        {
          "output_type": "execute_result",
          "data": {
            "text/plain": [
              "(198, 39)"
            ]
          },
          "metadata": {},
          "execution_count": 142
        }
      ]
    },
    {
      "cell_type": "code",
      "source": [
        "# Epl world series america 2022-2023 season\n",
        "df_epl_world_series_america_2022_2023_season = get_league_data(14783)\n",
        "df_epl_world_series_america_2022_2023_season.shape"
      ],
      "metadata": {
        "colab": {
          "base_uri": "https://localhost:8080/"
        },
        "outputId": "5c912241-6112-4ca9-d1ee-70110087f1b6",
        "id": "VAujD7aryWXh"
      },
      "execution_count": null,
      "outputs": [
        {
          "output_type": "execute_result",
          "data": {
            "text/plain": [
              "(47, 39)"
            ]
          },
          "metadata": {},
          "execution_count": 143
        }
      ]
    },
    {
      "cell_type": "code",
      "source": [
        "# Riyadh masters 2023 by gamers8\n",
        "df_riyadh_masters_2023_by_gamers8 = get_league_data(15475)\n",
        "df_riyadh_masters_2023_by_gamers8.shape"
      ],
      "metadata": {
        "colab": {
          "base_uri": "https://localhost:8080/"
        },
        "outputId": "36c51ba2-b0f6-4464-9720-a4d7ee276037",
        "id": "o3UaD0BByuS3"
      },
      "execution_count": null,
      "outputs": [
        {
          "output_type": "execute_result",
          "data": {
            "text/plain": [
              "(16, 39)"
            ]
          },
          "metadata": {},
          "execution_count": 144
        }
      ]
    },
    {
      "cell_type": "code",
      "source": [
        "# Esportsbattle dota2 smc3\n",
        "df_esportsbattle_dota2_smc3 = get_league_data(15428)\n",
        "df_esportsbattle_dota2_smc3.shape"
      ],
      "metadata": {
        "colab": {
          "base_uri": "https://localhost:8080/"
        },
        "outputId": "d6dded36-ab3b-4569-df7d-5dcd242b62ba",
        "id": "_24XCsMIRzX0"
      },
      "execution_count": null,
      "outputs": [
        {
          "output_type": "execute_result",
          "data": {
            "text/plain": [
              "(87, 39)"
            ]
          },
          "metadata": {},
          "execution_count": 145
        }
      ]
    },
    {
      "cell_type": "code",
      "source": [
        "# 1xplore series asia 1\n",
        "df_1xplore_series_asia_1 = get_league_data(15470)\n",
        "df_1xplore_series_asia_1.shape"
      ],
      "metadata": {
        "colab": {
          "base_uri": "https://localhost:8080/"
        },
        "outputId": "b44c33b7-38b5-4328-e28e-0d86815cc154",
        "id": "O8VdZ_8xljmK"
      },
      "execution_count": null,
      "outputs": [
        {
          "output_type": "execute_result",
          "data": {
            "text/plain": [
              "(15, 39)"
            ]
          },
          "metadata": {},
          "execution_count": 146
        }
      ]
    },
    {
      "cell_type": "code",
      "source": [
        "# vk play\n",
        "df_vk_play = get_league_data(15537)\n",
        "df_vk_play.shape"
      ],
      "metadata": {
        "colab": {
          "base_uri": "https://localhost:8080/"
        },
        "outputId": "3269dc62-5691-487e-f8ac-84d6eff6e9e3",
        "id": "sASqF-mRhlZh"
      },
      "execution_count": null,
      "outputs": [
        {
          "output_type": "execute_result",
          "data": {
            "text/plain": [
              "(4, 39)"
            ]
          },
          "metadata": {},
          "execution_count": 147
        }
      ]
    },
    {
      "cell_type": "code",
      "source": [
        "frames = [df_ancients_leaguee,\n",
        "          df_destiny_league,\n",
        "          df_space_league,\n",
        "          df_european_pro_league,\n",
        "          df_sow_cup,\n",
        "          df_ultras_dota_pro_league,\n",
        "          df_winline_insight_season_3,\n",
        "          df_esportsbattle_sc8,\n",
        "          df_titan_league,\n",
        "          df_esportsbattle_sc7,\n",
        "          df_pinnacle_cup_malta_vibes_2,\n",
        "          df_tdl_pro_series_summer_season,\n",
        "          df_tdl_sea_pro_series_summer_season,\n",
        "          df_1xplore_series_latam_4,\n",
        "          df_sivvit,\n",
        "          df_esportsbattle_dota2_smc2,\n",
        "          df_esportsbattle_dota2_smc1,\n",
        "          df_dreamleague_season_20,\n",
        "          df_epl_world_series_america_2022_2023_season,\n",
        "          df_riyadh_masters_2023_by_gamers8,\n",
        "          df_esportsbattle_dota2_smc3,\n",
        "          df_1xplore_series_asia_1,\n",
        "          df_vk_play]\n",
        "df_professional_league = pd.concat(frames)\n",
        "df_professional_league.shape"
      ],
      "metadata": {
        "id": "SpFA8X-MvJLd",
        "colab": {
          "base_uri": "https://localhost:8080/"
        },
        "outputId": "5e3c7a04-a5cb-446a-8ad9-aee31f7b7123"
      },
      "execution_count": null,
      "outputs": [
        {
          "output_type": "execute_result",
          "data": {
            "text/plain": [
              "(4293, 39)"
            ]
          },
          "metadata": {},
          "execution_count": 149
        }
      ]
    },
    {
      "cell_type": "markdown",
      "source": [
        "# Final merge"
      ],
      "metadata": {
        "id": "3AtX20hLP50U"
      }
    },
    {
      "cell_type": "code",
      "source": [
        "df_pro_match.shape"
      ],
      "metadata": {
        "id": "JF5r41wo9bPW"
      },
      "execution_count": null,
      "outputs": []
    },
    {
      "cell_type": "code",
      "source": [
        "df_professional_league.shape"
      ],
      "metadata": {
        "id": "Iq32-NK4Eu0d"
      },
      "execution_count": null,
      "outputs": []
    },
    {
      "cell_type": "code",
      "source": [
        "frames = [df_pro_match, df_professional_league]\n",
        "df_pro_match = pd.concat(frames)"
      ],
      "metadata": {
        "id": "Ppix1_LVFwkN"
      },
      "execution_count": null,
      "outputs": []
    },
    {
      "cell_type": "code",
      "source": [
        "df_pro_match.dropna(subset=['picks_bans'], inplace=True)"
      ],
      "metadata": {
        "id": "Iu4sTccOEkyZ"
      },
      "execution_count": null,
      "outputs": []
    },
    {
      "cell_type": "code",
      "source": [
        "df_pro_match.shape"
      ],
      "metadata": {
        "id": "KhiJAjgNF1EJ"
      },
      "execution_count": null,
      "outputs": []
    },
    {
      "cell_type": "code",
      "source": [
        "df_pro_match.sort_values(by = 'duration', ascending=False)"
      ],
      "metadata": {
        "id": "58CkDgh6VAkS"
      },
      "execution_count": null,
      "outputs": []
    },
    {
      "cell_type": "code",
      "source": [
        "df_new = pd.DataFrame(columns=[\"match_id\", \"is_pick\", \"hero_id\", \"team\", \"order\"])"
      ],
      "metadata": {
        "id": "j_pyjcsVEkyb"
      },
      "execution_count": null,
      "outputs": []
    },
    {
      "cell_type": "code",
      "source": [
        "\"\"\" Переделать, чтобы ускорить \"\"\"\n",
        "for index, row in df_pro_match.iterrows():\n",
        "  match_id = row[\"match_id\"]\n",
        "\n",
        "  # Чтение массива pick_bans текущей строки\n",
        "  pick_bans_arr = row[\"picks_bans\"]\n",
        "\n",
        "  # Итерация по элементам массива pick_bans\n",
        "  for pick_ban in pick_bans_arr:\n",
        "\n",
        "      is_pick = pick_ban[\"is_pick\"]\n",
        "      hero_id = pick_ban[\"hero_id\"]\n",
        "      team = pick_ban[\"team\"]\n",
        "      order = pick_ban[\"order\"]\n",
        "\n",
        "      # Добавление новой строки в датафрейм\n",
        "      df_new = df_new.append({\"match_id\": match_id,\n",
        "                              \"is_pick\": is_pick,\n",
        "                              \"hero_id\": hero_id,\n",
        "                              \"team\": team,\n",
        "                              \"order\": order},\n",
        "                              ignore_index=True)"
      ],
      "metadata": {
        "id": "lr7OL1VqEkyb"
      },
      "execution_count": null,
      "outputs": []
    },
    {
      "cell_type": "code",
      "source": [
        "df_pro_match_picks_bans = df_new"
      ],
      "metadata": {
        "id": "P-uX9XzpEkyc"
      },
      "execution_count": null,
      "outputs": []
    },
    {
      "cell_type": "code",
      "source": [
        "df_pro_match_picks_bans.head(5)"
      ],
      "metadata": {
        "id": "fKw1_SZnEkyc"
      },
      "execution_count": null,
      "outputs": []
    },
    {
      "cell_type": "code",
      "source": [
        "df_pro_match_picks = df_pro_match_picks_bans.query('is_pick==True')"
      ],
      "metadata": {
        "id": "pmnikA-hEkyd"
      },
      "execution_count": null,
      "outputs": []
    },
    {
      "cell_type": "code",
      "source": [
        "df_grouped = df_pro_match_picks.groupby(['match_id', 'team'])['hero_id'].apply(lambda x: ','.join(x.astype(str)))"
      ],
      "metadata": {
        "id": "JzRKkig0Ekyd"
      },
      "execution_count": null,
      "outputs": []
    },
    {
      "cell_type": "code",
      "source": [
        "df_grouped = df_grouped.reset_index()"
      ],
      "metadata": {
        "id": "_mdVxFZhEkyd"
      },
      "execution_count": null,
      "outputs": []
    },
    {
      "cell_type": "code",
      "source": [
        "df_grouped"
      ],
      "metadata": {
        "id": "qtI89wjtEkye"
      },
      "execution_count": null,
      "outputs": []
    },
    {
      "cell_type": "code",
      "source": [
        "df_grouped_dire_team = df_grouped.query('team == 1').rename({'hero_id': 'dire_team'}, axis=1)\n",
        "df_grouped_radiant_team = df_grouped.query('team == 0').rename({'hero_id': 'radiant_team'}, axis=1)"
      ],
      "metadata": {
        "id": "D_3MjZIMEkye"
      },
      "execution_count": null,
      "outputs": []
    },
    {
      "cell_type": "code",
      "source": [
        "df_grouped_dire_team = df_grouped_dire_team[['match_id', 'dire_team']]\n",
        "df_grouped_radiant_team = df_grouped_radiant_team[['match_id', 'radiant_team']]"
      ],
      "metadata": {
        "id": "zCSlfBvaEkye"
      },
      "execution_count": null,
      "outputs": []
    },
    {
      "cell_type": "code",
      "source": [
        "df_pro_match = df_pro_match.merge(df_grouped_dire_team, how='left', on='match_id')\n",
        "df_pro_match = df_pro_match.merge(df_grouped_radiant_team, how='left', on='match_id')"
      ],
      "metadata": {
        "id": "lWmLu_plEkye"
      },
      "execution_count": null,
      "outputs": []
    },
    {
      "cell_type": "code",
      "source": [
        "df_pro_match.shape"
      ],
      "metadata": {
        "id": "pJiWtZjsEkyf"
      },
      "execution_count": null,
      "outputs": []
    },
    {
      "cell_type": "code",
      "source": [
        "df_pro_match = df_pro_match[['match_id', 'radiant_win', 'duration','radiant_team','dire_team']]\n",
        "df_pro_match.shape"
      ],
      "metadata": {
        "id": "qO4RF3uVEkyf"
      },
      "execution_count": null,
      "outputs": []
    },
    {
      "cell_type": "code",
      "source": [
        "df_full = df_pub_match[['match_id', 'radiant_win', 'duration', 'radiant_team', 'dire_team']]\n",
        "frames = [df_full, df_pro_match]\n",
        "df_full = pd.concat(frames)\n",
        "df_full.shape"
      ],
      "metadata": {
        "id": "QZBm1FCgEkyf"
      },
      "execution_count": null,
      "outputs": []
    },
    {
      "cell_type": "code",
      "source": [
        "df_full_matches = df_full"
      ],
      "metadata": {
        "id": "1fsEhf5WEkyf"
      },
      "execution_count": null,
      "outputs": []
    },
    {
      "cell_type": "code",
      "source": [
        "# Путь к файлу\n",
        "filepath_full = Path('/content/drive/MyDrive/df_pred.csv')"
      ],
      "metadata": {
        "id": "Plaz-YnkEkyf"
      },
      "execution_count": null,
      "outputs": []
    },
    {
      "cell_type": "code",
      "source": [
        "# Сохранение\n",
        "filepath_full.parent.mkdir(parents=True, exist_ok=True)\n",
        "df_full_matches.to_csv(filepath_full, index=False)"
      ],
      "metadata": {
        "id": "AQksT0VVEkyg"
      },
      "execution_count": null,
      "outputs": []
    },
    {
      "cell_type": "markdown",
      "source": [
        "# Tests"
      ],
      "metadata": {
        "id": "cJ91jAGIkFRb"
      }
    },
    {
      "cell_type": "code",
      "source": [
        "df_pro_match = df_professional_league"
      ],
      "metadata": {
        "id": "adSmuorfpiad"
      },
      "execution_count": null,
      "outputs": []
    },
    {
      "cell_type": "code",
      "source": [
        "for index, row in df_pro_match.iterrows():\n",
        "    match_id = row[\"match_id\"]\n",
        "    pick_bans_arr = row[\"picks_bans\"]\n",
        "\n",
        "for pick_ban in pick_bans_arr:\n",
        "    is_pick = pick_ban[\"is_pick\"]\n",
        "    hero_id = pick_ban[\"hero_id\"]\n",
        "    team = pick_ban[\"team\"]\n",
        "    order = pick_ban[\"order\"]\n",
        "\n",
        "    data.append({\"match_id\": match_id,\n",
        "                  \"is_pick\": is_pick,\n",
        "                  \"hero_id\": hero_id,\n",
        "                  \"team\": team,\n",
        "                  \"order\": order})\n",
        "\n",
        "# Если df_new изначально пуст, можно просто заменить на:\n",
        "df_new = pd.DataFrame(data)"
      ],
      "metadata": {
        "id": "hBcrGjz2kLSk"
      },
      "execution_count": null,
      "outputs": []
    },
    {
      "cell_type": "code",
      "source": [
        "df_new.shape"
      ],
      "metadata": {
        "colab": {
          "base_uri": "https://localhost:8080/"
        },
        "id": "i2hz3LhioQT8",
        "outputId": "84358a39-0c4a-4406-cb33-02d3f7a4c51d"
      },
      "execution_count": null,
      "outputs": [
        {
          "output_type": "execute_result",
          "data": {
            "text/plain": [
              "(50010, 5)"
            ]
          },
          "metadata": {},
          "execution_count": 190
        }
      ]
    },
    {
      "cell_type": "code",
      "source": [
        "df_pro_match_picks_bans = df_new"
      ],
      "metadata": {
        "id": "-cvTQ6cVo_OH"
      },
      "execution_count": null,
      "outputs": []
    },
    {
      "cell_type": "code",
      "source": [
        "df_pro_match_picks_bans.head(5)"
      ],
      "metadata": {
        "colab": {
          "base_uri": "https://localhost:8080/",
          "height": 206
        },
        "id": "IgOME7ljo_OS",
        "outputId": "326ef7fe-f480-46eb-fbd9-81205962ad07"
      },
      "execution_count": null,
      "outputs": [
        {
          "output_type": "execute_result",
          "data": {
            "text/plain": [
              "     match_id  is_pick  hero_id  team  order\n",
              "0  7223492809    False       45     0      0\n",
              "1  7223492809    False       10     1      1\n",
              "2  7223492809    False       71     0      2\n",
              "3  7223492809    False       92     1      3\n",
              "4  7223492809     True      105     0      4"
            ],
            "text/html": [
              "\n",
              "  <div id=\"df-54e3ecfa-e5bf-4461-b1ca-c72a94fe92b4\">\n",
              "    <div class=\"colab-df-container\">\n",
              "      <div>\n",
              "<style scoped>\n",
              "    .dataframe tbody tr th:only-of-type {\n",
              "        vertical-align: middle;\n",
              "    }\n",
              "\n",
              "    .dataframe tbody tr th {\n",
              "        vertical-align: top;\n",
              "    }\n",
              "\n",
              "    .dataframe thead th {\n",
              "        text-align: right;\n",
              "    }\n",
              "</style>\n",
              "<table border=\"1\" class=\"dataframe\">\n",
              "  <thead>\n",
              "    <tr style=\"text-align: right;\">\n",
              "      <th></th>\n",
              "      <th>match_id</th>\n",
              "      <th>is_pick</th>\n",
              "      <th>hero_id</th>\n",
              "      <th>team</th>\n",
              "      <th>order</th>\n",
              "    </tr>\n",
              "  </thead>\n",
              "  <tbody>\n",
              "    <tr>\n",
              "      <th>0</th>\n",
              "      <td>7223492809</td>\n",
              "      <td>False</td>\n",
              "      <td>45</td>\n",
              "      <td>0</td>\n",
              "      <td>0</td>\n",
              "    </tr>\n",
              "    <tr>\n",
              "      <th>1</th>\n",
              "      <td>7223492809</td>\n",
              "      <td>False</td>\n",
              "      <td>10</td>\n",
              "      <td>1</td>\n",
              "      <td>1</td>\n",
              "    </tr>\n",
              "    <tr>\n",
              "      <th>2</th>\n",
              "      <td>7223492809</td>\n",
              "      <td>False</td>\n",
              "      <td>71</td>\n",
              "      <td>0</td>\n",
              "      <td>2</td>\n",
              "    </tr>\n",
              "    <tr>\n",
              "      <th>3</th>\n",
              "      <td>7223492809</td>\n",
              "      <td>False</td>\n",
              "      <td>92</td>\n",
              "      <td>1</td>\n",
              "      <td>3</td>\n",
              "    </tr>\n",
              "    <tr>\n",
              "      <th>4</th>\n",
              "      <td>7223492809</td>\n",
              "      <td>True</td>\n",
              "      <td>105</td>\n",
              "      <td>0</td>\n",
              "      <td>4</td>\n",
              "    </tr>\n",
              "  </tbody>\n",
              "</table>\n",
              "</div>\n",
              "      <button class=\"colab-df-convert\" onclick=\"convertToInteractive('df-54e3ecfa-e5bf-4461-b1ca-c72a94fe92b4')\"\n",
              "              title=\"Convert this dataframe to an interactive table.\"\n",
              "              style=\"display:none;\">\n",
              "        \n",
              "  <svg xmlns=\"http://www.w3.org/2000/svg\" height=\"24px\"viewBox=\"0 0 24 24\"\n",
              "       width=\"24px\">\n",
              "    <path d=\"M0 0h24v24H0V0z\" fill=\"none\"/>\n",
              "    <path d=\"M18.56 5.44l.94 2.06.94-2.06 2.06-.94-2.06-.94-.94-2.06-.94 2.06-2.06.94zm-11 1L8.5 8.5l.94-2.06 2.06-.94-2.06-.94L8.5 2.5l-.94 2.06-2.06.94zm10 10l.94 2.06.94-2.06 2.06-.94-2.06-.94-.94-2.06-.94 2.06-2.06.94z\"/><path d=\"M17.41 7.96l-1.37-1.37c-.4-.4-.92-.59-1.43-.59-.52 0-1.04.2-1.43.59L10.3 9.45l-7.72 7.72c-.78.78-.78 2.05 0 2.83L4 21.41c.39.39.9.59 1.41.59.51 0 1.02-.2 1.41-.59l7.78-7.78 2.81-2.81c.8-.78.8-2.07 0-2.86zM5.41 20L4 18.59l7.72-7.72 1.47 1.35L5.41 20z\"/>\n",
              "  </svg>\n",
              "      </button>\n",
              "      \n",
              "  <style>\n",
              "    .colab-df-container {\n",
              "      display:flex;\n",
              "      flex-wrap:wrap;\n",
              "      gap: 12px;\n",
              "    }\n",
              "\n",
              "    .colab-df-convert {\n",
              "      background-color: #E8F0FE;\n",
              "      border: none;\n",
              "      border-radius: 50%;\n",
              "      cursor: pointer;\n",
              "      display: none;\n",
              "      fill: #1967D2;\n",
              "      height: 32px;\n",
              "      padding: 0 0 0 0;\n",
              "      width: 32px;\n",
              "    }\n",
              "\n",
              "    .colab-df-convert:hover {\n",
              "      background-color: #E2EBFA;\n",
              "      box-shadow: 0px 1px 2px rgba(60, 64, 67, 0.3), 0px 1px 3px 1px rgba(60, 64, 67, 0.15);\n",
              "      fill: #174EA6;\n",
              "    }\n",
              "\n",
              "    [theme=dark] .colab-df-convert {\n",
              "      background-color: #3B4455;\n",
              "      fill: #D2E3FC;\n",
              "    }\n",
              "\n",
              "    [theme=dark] .colab-df-convert:hover {\n",
              "      background-color: #434B5C;\n",
              "      box-shadow: 0px 1px 3px 1px rgba(0, 0, 0, 0.15);\n",
              "      filter: drop-shadow(0px 1px 2px rgba(0, 0, 0, 0.3));\n",
              "      fill: #FFFFFF;\n",
              "    }\n",
              "  </style>\n",
              "\n",
              "      <script>\n",
              "        const buttonEl =\n",
              "          document.querySelector('#df-54e3ecfa-e5bf-4461-b1ca-c72a94fe92b4 button.colab-df-convert');\n",
              "        buttonEl.style.display =\n",
              "          google.colab.kernel.accessAllowed ? 'block' : 'none';\n",
              "\n",
              "        async function convertToInteractive(key) {\n",
              "          const element = document.querySelector('#df-54e3ecfa-e5bf-4461-b1ca-c72a94fe92b4');\n",
              "          const dataTable =\n",
              "            await google.colab.kernel.invokeFunction('convertToInteractive',\n",
              "                                                     [key], {});\n",
              "          if (!dataTable) return;\n",
              "\n",
              "          const docLinkHtml = 'Like what you see? Visit the ' +\n",
              "            '<a target=\"_blank\" href=https://colab.research.google.com/notebooks/data_table.ipynb>data table notebook</a>'\n",
              "            + ' to learn more about interactive tables.';\n",
              "          element.innerHTML = '';\n",
              "          dataTable['output_type'] = 'display_data';\n",
              "          await google.colab.output.renderOutput(dataTable, element);\n",
              "          const docLink = document.createElement('div');\n",
              "          docLink.innerHTML = docLinkHtml;\n",
              "          element.appendChild(docLink);\n",
              "        }\n",
              "      </script>\n",
              "    </div>\n",
              "  </div>\n",
              "  "
            ]
          },
          "metadata": {},
          "execution_count": 192
        }
      ]
    },
    {
      "cell_type": "code",
      "source": [
        "df_pro_match_picks = df_pro_match_picks_bans.query('is_pick==True')"
      ],
      "metadata": {
        "id": "__57JlKso_OS"
      },
      "execution_count": null,
      "outputs": []
    },
    {
      "cell_type": "code",
      "source": [
        "df_grouped = df_pro_match_picks.groupby(['match_id', 'team'])['hero_id'].apply(lambda x: ','.join(x.astype(str)))"
      ],
      "metadata": {
        "id": "Q2WQOeR3o_OS"
      },
      "execution_count": null,
      "outputs": []
    },
    {
      "cell_type": "code",
      "source": [
        "df_grouped = df_grouped.reset_index()"
      ],
      "metadata": {
        "id": "NZ-pVya_o_OS"
      },
      "execution_count": null,
      "outputs": []
    },
    {
      "cell_type": "code",
      "source": [
        "df_grouped"
      ],
      "metadata": {
        "colab": {
          "base_uri": "https://localhost:8080/",
          "height": 424
        },
        "id": "MGDoDjn3o_OS",
        "outputId": "a85d6946-5c1e-4aaf-b03b-3d3a21a0149a"
      },
      "execution_count": null,
      "outputs": [
        {
          "output_type": "execute_result",
          "data": {
            "text/plain": [
              "        match_id  team          hero_id\n",
              "0     7116656225     0  101,104,8,9,126\n",
              "1     7116656225     1  19,64,128,21,56\n",
              "2     7116708252     0    138,86,31,2,9\n",
              "3     7116708252     1   26,38,51,54,52\n",
              "4     7116766639     0  138,100,18,5,22\n",
              "...          ...   ...              ...\n",
              "4159  7226310299     1     5,79,71,7,10\n",
              "4160  7226332572     0   88,64,97,44,11\n",
              "4161  7226332572     1  61,105,62,45,63\n",
              "4162  7226344784     0   85,45,98,109,7\n",
              "4163  7226344784     1   73,1,26,97,106\n",
              "\n",
              "[4164 rows x 3 columns]"
            ],
            "text/html": [
              "\n",
              "  <div id=\"df-44bf6984-cf69-4537-b7dd-927b597bf3fe\">\n",
              "    <div class=\"colab-df-container\">\n",
              "      <div>\n",
              "<style scoped>\n",
              "    .dataframe tbody tr th:only-of-type {\n",
              "        vertical-align: middle;\n",
              "    }\n",
              "\n",
              "    .dataframe tbody tr th {\n",
              "        vertical-align: top;\n",
              "    }\n",
              "\n",
              "    .dataframe thead th {\n",
              "        text-align: right;\n",
              "    }\n",
              "</style>\n",
              "<table border=\"1\" class=\"dataframe\">\n",
              "  <thead>\n",
              "    <tr style=\"text-align: right;\">\n",
              "      <th></th>\n",
              "      <th>match_id</th>\n",
              "      <th>team</th>\n",
              "      <th>hero_id</th>\n",
              "    </tr>\n",
              "  </thead>\n",
              "  <tbody>\n",
              "    <tr>\n",
              "      <th>0</th>\n",
              "      <td>7116656225</td>\n",
              "      <td>0</td>\n",
              "      <td>101,104,8,9,126</td>\n",
              "    </tr>\n",
              "    <tr>\n",
              "      <th>1</th>\n",
              "      <td>7116656225</td>\n",
              "      <td>1</td>\n",
              "      <td>19,64,128,21,56</td>\n",
              "    </tr>\n",
              "    <tr>\n",
              "      <th>2</th>\n",
              "      <td>7116708252</td>\n",
              "      <td>0</td>\n",
              "      <td>138,86,31,2,9</td>\n",
              "    </tr>\n",
              "    <tr>\n",
              "      <th>3</th>\n",
              "      <td>7116708252</td>\n",
              "      <td>1</td>\n",
              "      <td>26,38,51,54,52</td>\n",
              "    </tr>\n",
              "    <tr>\n",
              "      <th>4</th>\n",
              "      <td>7116766639</td>\n",
              "      <td>0</td>\n",
              "      <td>138,100,18,5,22</td>\n",
              "    </tr>\n",
              "    <tr>\n",
              "      <th>...</th>\n",
              "      <td>...</td>\n",
              "      <td>...</td>\n",
              "      <td>...</td>\n",
              "    </tr>\n",
              "    <tr>\n",
              "      <th>4159</th>\n",
              "      <td>7226310299</td>\n",
              "      <td>1</td>\n",
              "      <td>5,79,71,7,10</td>\n",
              "    </tr>\n",
              "    <tr>\n",
              "      <th>4160</th>\n",
              "      <td>7226332572</td>\n",
              "      <td>0</td>\n",
              "      <td>88,64,97,44,11</td>\n",
              "    </tr>\n",
              "    <tr>\n",
              "      <th>4161</th>\n",
              "      <td>7226332572</td>\n",
              "      <td>1</td>\n",
              "      <td>61,105,62,45,63</td>\n",
              "    </tr>\n",
              "    <tr>\n",
              "      <th>4162</th>\n",
              "      <td>7226344784</td>\n",
              "      <td>0</td>\n",
              "      <td>85,45,98,109,7</td>\n",
              "    </tr>\n",
              "    <tr>\n",
              "      <th>4163</th>\n",
              "      <td>7226344784</td>\n",
              "      <td>1</td>\n",
              "      <td>73,1,26,97,106</td>\n",
              "    </tr>\n",
              "  </tbody>\n",
              "</table>\n",
              "<p>4164 rows × 3 columns</p>\n",
              "</div>\n",
              "      <button class=\"colab-df-convert\" onclick=\"convertToInteractive('df-44bf6984-cf69-4537-b7dd-927b597bf3fe')\"\n",
              "              title=\"Convert this dataframe to an interactive table.\"\n",
              "              style=\"display:none;\">\n",
              "        \n",
              "  <svg xmlns=\"http://www.w3.org/2000/svg\" height=\"24px\"viewBox=\"0 0 24 24\"\n",
              "       width=\"24px\">\n",
              "    <path d=\"M0 0h24v24H0V0z\" fill=\"none\"/>\n",
              "    <path d=\"M18.56 5.44l.94 2.06.94-2.06 2.06-.94-2.06-.94-.94-2.06-.94 2.06-2.06.94zm-11 1L8.5 8.5l.94-2.06 2.06-.94-2.06-.94L8.5 2.5l-.94 2.06-2.06.94zm10 10l.94 2.06.94-2.06 2.06-.94-2.06-.94-.94-2.06-.94 2.06-2.06.94z\"/><path d=\"M17.41 7.96l-1.37-1.37c-.4-.4-.92-.59-1.43-.59-.52 0-1.04.2-1.43.59L10.3 9.45l-7.72 7.72c-.78.78-.78 2.05 0 2.83L4 21.41c.39.39.9.59 1.41.59.51 0 1.02-.2 1.41-.59l7.78-7.78 2.81-2.81c.8-.78.8-2.07 0-2.86zM5.41 20L4 18.59l7.72-7.72 1.47 1.35L5.41 20z\"/>\n",
              "  </svg>\n",
              "      </button>\n",
              "      \n",
              "  <style>\n",
              "    .colab-df-container {\n",
              "      display:flex;\n",
              "      flex-wrap:wrap;\n",
              "      gap: 12px;\n",
              "    }\n",
              "\n",
              "    .colab-df-convert {\n",
              "      background-color: #E8F0FE;\n",
              "      border: none;\n",
              "      border-radius: 50%;\n",
              "      cursor: pointer;\n",
              "      display: none;\n",
              "      fill: #1967D2;\n",
              "      height: 32px;\n",
              "      padding: 0 0 0 0;\n",
              "      width: 32px;\n",
              "    }\n",
              "\n",
              "    .colab-df-convert:hover {\n",
              "      background-color: #E2EBFA;\n",
              "      box-shadow: 0px 1px 2px rgba(60, 64, 67, 0.3), 0px 1px 3px 1px rgba(60, 64, 67, 0.15);\n",
              "      fill: #174EA6;\n",
              "    }\n",
              "\n",
              "    [theme=dark] .colab-df-convert {\n",
              "      background-color: #3B4455;\n",
              "      fill: #D2E3FC;\n",
              "    }\n",
              "\n",
              "    [theme=dark] .colab-df-convert:hover {\n",
              "      background-color: #434B5C;\n",
              "      box-shadow: 0px 1px 3px 1px rgba(0, 0, 0, 0.15);\n",
              "      filter: drop-shadow(0px 1px 2px rgba(0, 0, 0, 0.3));\n",
              "      fill: #FFFFFF;\n",
              "    }\n",
              "  </style>\n",
              "\n",
              "      <script>\n",
              "        const buttonEl =\n",
              "          document.querySelector('#df-44bf6984-cf69-4537-b7dd-927b597bf3fe button.colab-df-convert');\n",
              "        buttonEl.style.display =\n",
              "          google.colab.kernel.accessAllowed ? 'block' : 'none';\n",
              "\n",
              "        async function convertToInteractive(key) {\n",
              "          const element = document.querySelector('#df-44bf6984-cf69-4537-b7dd-927b597bf3fe');\n",
              "          const dataTable =\n",
              "            await google.colab.kernel.invokeFunction('convertToInteractive',\n",
              "                                                     [key], {});\n",
              "          if (!dataTable) return;\n",
              "\n",
              "          const docLinkHtml = 'Like what you see? Visit the ' +\n",
              "            '<a target=\"_blank\" href=https://colab.research.google.com/notebooks/data_table.ipynb>data table notebook</a>'\n",
              "            + ' to learn more about interactive tables.';\n",
              "          element.innerHTML = '';\n",
              "          dataTable['output_type'] = 'display_data';\n",
              "          await google.colab.output.renderOutput(dataTable, element);\n",
              "          const docLink = document.createElement('div');\n",
              "          docLink.innerHTML = docLinkHtml;\n",
              "          element.appendChild(docLink);\n",
              "        }\n",
              "      </script>\n",
              "    </div>\n",
              "  </div>\n",
              "  "
            ]
          },
          "metadata": {},
          "execution_count": 196
        }
      ]
    },
    {
      "cell_type": "code",
      "source": [
        "df_grouped_dire_team = df_grouped.query('team == 1').rename({'hero_id': 'dire_team'}, axis=1)\n",
        "df_grouped_radiant_team = df_grouped.query('team == 0').rename({'hero_id': 'radiant_team'}, axis=1)"
      ],
      "metadata": {
        "id": "XYT6K0Y5o_OS"
      },
      "execution_count": null,
      "outputs": []
    },
    {
      "cell_type": "code",
      "source": [
        "df_grouped_dire_team = df_grouped_dire_team[['match_id', 'dire_team']]\n",
        "df_grouped_radiant_team = df_grouped_radiant_team[['match_id', 'radiant_team']]"
      ],
      "metadata": {
        "id": "IuF97Cn5o_OT"
      },
      "execution_count": null,
      "outputs": []
    },
    {
      "cell_type": "code",
      "source": [
        "df_pro_match = df_pro_match.merge(df_grouped_dire_team, how='left', on='match_id')\n",
        "df_pro_match = df_pro_match.merge(df_grouped_radiant_team, how='left', on='match_id')"
      ],
      "metadata": {
        "id": "dC_LXJYNo_OT"
      },
      "execution_count": null,
      "outputs": []
    },
    {
      "cell_type": "code",
      "source": [
        "df_pro_match[['match_id', 'dire_team']]"
      ],
      "metadata": {
        "colab": {
          "base_uri": "https://localhost:8080/",
          "height": 424
        },
        "id": "rD_j4OC4o_OT",
        "outputId": "7da6a13b-bf6b-4aa2-8823-6b007e3e4598"
      },
      "execution_count": null,
      "outputs": [
        {
          "output_type": "execute_result",
          "data": {
            "text/plain": [
              "        match_id                                          dire_team\n",
              "0     7226332572                                    61,105,62,45,63\n",
              "1     7226296750                                  69,128,111,114,22\n",
              "2     7226259291                                 77,123,121,137,135\n",
              "3     7226234308                                     123,50,7,1,104\n",
              "4     7226198293                                   101,30,81,102,98\n",
              "...          ...                                                ...\n",
              "4288  7213711359                                                NaN\n",
              "4289  7223801616                                                NaN\n",
              "4290  7223655960                                                NaN\n",
              "4291  7223560749                                                NaN\n",
              "4292  7223492809  91,38,101,104,70,91,38,101,104,70,91,38,101,10...\n",
              "\n",
              "[4293 rows x 2 columns]"
            ],
            "text/html": [
              "\n",
              "  <div id=\"df-afc24af4-893a-4b9d-8858-08e93fee4fa5\">\n",
              "    <div class=\"colab-df-container\">\n",
              "      <div>\n",
              "<style scoped>\n",
              "    .dataframe tbody tr th:only-of-type {\n",
              "        vertical-align: middle;\n",
              "    }\n",
              "\n",
              "    .dataframe tbody tr th {\n",
              "        vertical-align: top;\n",
              "    }\n",
              "\n",
              "    .dataframe thead th {\n",
              "        text-align: right;\n",
              "    }\n",
              "</style>\n",
              "<table border=\"1\" class=\"dataframe\">\n",
              "  <thead>\n",
              "    <tr style=\"text-align: right;\">\n",
              "      <th></th>\n",
              "      <th>match_id</th>\n",
              "      <th>dire_team</th>\n",
              "    </tr>\n",
              "  </thead>\n",
              "  <tbody>\n",
              "    <tr>\n",
              "      <th>0</th>\n",
              "      <td>7226332572</td>\n",
              "      <td>61,105,62,45,63</td>\n",
              "    </tr>\n",
              "    <tr>\n",
              "      <th>1</th>\n",
              "      <td>7226296750</td>\n",
              "      <td>69,128,111,114,22</td>\n",
              "    </tr>\n",
              "    <tr>\n",
              "      <th>2</th>\n",
              "      <td>7226259291</td>\n",
              "      <td>77,123,121,137,135</td>\n",
              "    </tr>\n",
              "    <tr>\n",
              "      <th>3</th>\n",
              "      <td>7226234308</td>\n",
              "      <td>123,50,7,1,104</td>\n",
              "    </tr>\n",
              "    <tr>\n",
              "      <th>4</th>\n",
              "      <td>7226198293</td>\n",
              "      <td>101,30,81,102,98</td>\n",
              "    </tr>\n",
              "    <tr>\n",
              "      <th>...</th>\n",
              "      <td>...</td>\n",
              "      <td>...</td>\n",
              "    </tr>\n",
              "    <tr>\n",
              "      <th>4288</th>\n",
              "      <td>7213711359</td>\n",
              "      <td>NaN</td>\n",
              "    </tr>\n",
              "    <tr>\n",
              "      <th>4289</th>\n",
              "      <td>7223801616</td>\n",
              "      <td>NaN</td>\n",
              "    </tr>\n",
              "    <tr>\n",
              "      <th>4290</th>\n",
              "      <td>7223655960</td>\n",
              "      <td>NaN</td>\n",
              "    </tr>\n",
              "    <tr>\n",
              "      <th>4291</th>\n",
              "      <td>7223560749</td>\n",
              "      <td>NaN</td>\n",
              "    </tr>\n",
              "    <tr>\n",
              "      <th>4292</th>\n",
              "      <td>7223492809</td>\n",
              "      <td>91,38,101,104,70,91,38,101,104,70,91,38,101,10...</td>\n",
              "    </tr>\n",
              "  </tbody>\n",
              "</table>\n",
              "<p>4293 rows × 2 columns</p>\n",
              "</div>\n",
              "      <button class=\"colab-df-convert\" onclick=\"convertToInteractive('df-afc24af4-893a-4b9d-8858-08e93fee4fa5')\"\n",
              "              title=\"Convert this dataframe to an interactive table.\"\n",
              "              style=\"display:none;\">\n",
              "        \n",
              "  <svg xmlns=\"http://www.w3.org/2000/svg\" height=\"24px\"viewBox=\"0 0 24 24\"\n",
              "       width=\"24px\">\n",
              "    <path d=\"M0 0h24v24H0V0z\" fill=\"none\"/>\n",
              "    <path d=\"M18.56 5.44l.94 2.06.94-2.06 2.06-.94-2.06-.94-.94-2.06-.94 2.06-2.06.94zm-11 1L8.5 8.5l.94-2.06 2.06-.94-2.06-.94L8.5 2.5l-.94 2.06-2.06.94zm10 10l.94 2.06.94-2.06 2.06-.94-2.06-.94-.94-2.06-.94 2.06-2.06.94z\"/><path d=\"M17.41 7.96l-1.37-1.37c-.4-.4-.92-.59-1.43-.59-.52 0-1.04.2-1.43.59L10.3 9.45l-7.72 7.72c-.78.78-.78 2.05 0 2.83L4 21.41c.39.39.9.59 1.41.59.51 0 1.02-.2 1.41-.59l7.78-7.78 2.81-2.81c.8-.78.8-2.07 0-2.86zM5.41 20L4 18.59l7.72-7.72 1.47 1.35L5.41 20z\"/>\n",
              "  </svg>\n",
              "      </button>\n",
              "      \n",
              "  <style>\n",
              "    .colab-df-container {\n",
              "      display:flex;\n",
              "      flex-wrap:wrap;\n",
              "      gap: 12px;\n",
              "    }\n",
              "\n",
              "    .colab-df-convert {\n",
              "      background-color: #E8F0FE;\n",
              "      border: none;\n",
              "      border-radius: 50%;\n",
              "      cursor: pointer;\n",
              "      display: none;\n",
              "      fill: #1967D2;\n",
              "      height: 32px;\n",
              "      padding: 0 0 0 0;\n",
              "      width: 32px;\n",
              "    }\n",
              "\n",
              "    .colab-df-convert:hover {\n",
              "      background-color: #E2EBFA;\n",
              "      box-shadow: 0px 1px 2px rgba(60, 64, 67, 0.3), 0px 1px 3px 1px rgba(60, 64, 67, 0.15);\n",
              "      fill: #174EA6;\n",
              "    }\n",
              "\n",
              "    [theme=dark] .colab-df-convert {\n",
              "      background-color: #3B4455;\n",
              "      fill: #D2E3FC;\n",
              "    }\n",
              "\n",
              "    [theme=dark] .colab-df-convert:hover {\n",
              "      background-color: #434B5C;\n",
              "      box-shadow: 0px 1px 3px 1px rgba(0, 0, 0, 0.15);\n",
              "      filter: drop-shadow(0px 1px 2px rgba(0, 0, 0, 0.3));\n",
              "      fill: #FFFFFF;\n",
              "    }\n",
              "  </style>\n",
              "\n",
              "      <script>\n",
              "        const buttonEl =\n",
              "          document.querySelector('#df-afc24af4-893a-4b9d-8858-08e93fee4fa5 button.colab-df-convert');\n",
              "        buttonEl.style.display =\n",
              "          google.colab.kernel.accessAllowed ? 'block' : 'none';\n",
              "\n",
              "        async function convertToInteractive(key) {\n",
              "          const element = document.querySelector('#df-afc24af4-893a-4b9d-8858-08e93fee4fa5');\n",
              "          const dataTable =\n",
              "            await google.colab.kernel.invokeFunction('convertToInteractive',\n",
              "                                                     [key], {});\n",
              "          if (!dataTable) return;\n",
              "\n",
              "          const docLinkHtml = 'Like what you see? Visit the ' +\n",
              "            '<a target=\"_blank\" href=https://colab.research.google.com/notebooks/data_table.ipynb>data table notebook</a>'\n",
              "            + ' to learn more about interactive tables.';\n",
              "          element.innerHTML = '';\n",
              "          dataTable['output_type'] = 'display_data';\n",
              "          await google.colab.output.renderOutput(dataTable, element);\n",
              "          const docLink = document.createElement('div');\n",
              "          docLink.innerHTML = docLinkHtml;\n",
              "          element.appendChild(docLink);\n",
              "        }\n",
              "      </script>\n",
              "    </div>\n",
              "  </div>\n",
              "  "
            ]
          },
          "metadata": {},
          "execution_count": 200
        }
      ]
    },
    {
      "cell_type": "code",
      "source": [],
      "metadata": {
        "id": "pKok8ci3pBR1"
      },
      "execution_count": null,
      "outputs": []
    }
  ],
  "metadata": {
    "colab": {
      "provenance": [],
      "toc_visible": true
    },
    "kernelspec": {
      "display_name": "Python 3",
      "name": "python3"
    },
    "language_info": {
      "name": "python"
    }
  },
  "nbformat": 4,
  "nbformat_minor": 0
}