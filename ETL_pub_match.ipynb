{
  "cells": [
    {
      "cell_type": "markdown",
      "metadata": {
        "id": "tAsihSD1do3l"
      },
      "source": [
        "Импорт библиотек"
      ]
    },
    {
      "cell_type": "code",
      "execution_count": 1,
      "metadata": {
        "id": "K4iWJaR3h_1c"
      },
      "outputs": [],
      "source": [
        "import pandas as pd\n",
        "import requests\n",
        "import time\n",
        "import json\n",
        "from pathlib import Path\n",
        "import seaborn as sns\n",
        "import matplotlib.pyplot as plt\n",
        "import numpy as np\n",
        "import datetime"
      ]
    },
    {
      "cell_type": "markdown",
      "metadata": {
        "id": "WD9Nw1HWbRpt"
      },
      "source": [
        "# Задачи:\n",
        "1. ~~Убрать дубликаты матчей~~\n",
        "2. ~~Перевести время (start_time) и добавить разделитель в duration.~~ ~~Разбить id героев по столбцам~~\n",
        "3. ~~Поднять PostgreSQL~~ и ~~добавить загрузку~~\n",
        "4. Автоматизировать (Cron) ~~(windows)~~\n",
        "5. Убрать при сохранении столбец индекса\n"
      ]
    },
    {
      "cell_type": "markdown",
      "metadata": {
        "id": "pKLwOmM0ayzW"
      },
      "source": [
        "Автоматизацию можно настроить через Apache Airflow или через Cron. Для простоты сделал локально через планировщик Windows."
      ]
    },
    {
      "cell_type": "markdown",
      "metadata": {
        "id": "9G3E0iO9dHFq"
      },
      "source": [
        "Скорее всего в будущем переделаю схему: выгрузка с API и трансформация во временную таблицу, подключение к БД и insert в основную таблицу"
      ]
    },
    {
      "cell_type": "markdown",
      "metadata": {
        "id": "id1YrXlWcl8k"
      },
      "source": [
        "#Выгрузка"
      ]
    },
    {
      "cell_type": "code",
      "execution_count": 2,
      "metadata": {
        "id": "L52PJO1ZiMJF"
      },
      "outputs": [],
      "source": [
        "# Путь к файлу\n",
        "filepath = Path('df.csv')"
      ]
    },
    {
      "cell_type": "code",
      "execution_count": 3,
      "metadata": {
        "id": "QNV6w_XjiMir"
      },
      "outputs": [],
      "source": [
        "# Загрузка файла\n",
        "df = pd.read_csv(filepath)"
      ]
    },
    {
      "cell_type": "code",
      "execution_count": 4,
      "metadata": {
        "colab": {
          "base_uri": "https://localhost:8080/",
          "height": 0
        },
        "id": "hlMNTIFyiMkv",
        "outputId": "1749647c-6f63-4027-d4fc-e5a9ab6af077"
      },
      "outputs": [
        {
          "data": {
            "text/html": [
              "<div>\n",
              "<style scoped>\n",
              "    .dataframe tbody tr th:only-of-type {\n",
              "        vertical-align: middle;\n",
              "    }\n",
              "\n",
              "    .dataframe tbody tr th {\n",
              "        vertical-align: top;\n",
              "    }\n",
              "\n",
              "    .dataframe thead th {\n",
              "        text-align: right;\n",
              "    }\n",
              "</style>\n",
              "<table border=\"1\" class=\"dataframe\">\n",
              "  <thead>\n",
              "    <tr style=\"text-align: right;\">\n",
              "      <th></th>\n",
              "      <th>Unnamed: 0</th>\n",
              "      <th>match_id</th>\n",
              "      <th>match_seq_num</th>\n",
              "      <th>radiant_win</th>\n",
              "      <th>start_time</th>\n",
              "      <th>duration</th>\n",
              "      <th>avg_mmr</th>\n",
              "      <th>num_mmr</th>\n",
              "      <th>lobby_type</th>\n",
              "      <th>game_mode</th>\n",
              "      <th>avg_rank_tier</th>\n",
              "      <th>num_rank_tier</th>\n",
              "      <th>cluster</th>\n",
              "      <th>radiant_team</th>\n",
              "      <th>dire_team</th>\n",
              "    </tr>\n",
              "  </thead>\n",
              "  <tbody>\n",
              "    <tr>\n",
              "      <th>0</th>\n",
              "      <td>0</td>\n",
              "      <td>6833937813</td>\n",
              "      <td>5724027212</td>\n",
              "      <td>True</td>\n",
              "      <td>1667190893</td>\n",
              "      <td>1502</td>\n",
              "      <td>3167.0</td>\n",
              "      <td>1.0</td>\n",
              "      <td>7</td>\n",
              "      <td>22</td>\n",
              "      <td>81</td>\n",
              "      <td>3</td>\n",
              "      <td>185</td>\n",
              "      <td>136,86,94,11,135</td>\n",
              "      <td>9,71,44,36,119</td>\n",
              "    </tr>\n",
              "    <tr>\n",
              "      <th>1</th>\n",
              "      <td>1</td>\n",
              "      <td>6833934314</td>\n",
              "      <td>5724024879</td>\n",
              "      <td>False</td>\n",
              "      <td>1667190637</td>\n",
              "      <td>1570</td>\n",
              "      <td>NaN</td>\n",
              "      <td>NaN</td>\n",
              "      <td>7</td>\n",
              "      <td>22</td>\n",
              "      <td>81</td>\n",
              "      <td>5</td>\n",
              "      <td>151</td>\n",
              "      <td>5,88,93,100,17</td>\n",
              "      <td>52,35,38,9,62</td>\n",
              "    </tr>\n",
              "    <tr>\n",
              "      <th>2</th>\n",
              "      <td>2</td>\n",
              "      <td>6833945514</td>\n",
              "      <td>5724035254</td>\n",
              "      <td>False</td>\n",
              "      <td>1667191374</td>\n",
              "      <td>1549</td>\n",
              "      <td>5063.0</td>\n",
              "      <td>5.0</td>\n",
              "      <td>7</td>\n",
              "      <td>3</td>\n",
              "      <td>81</td>\n",
              "      <td>9</td>\n",
              "      <td>227</td>\n",
              "      <td>28,64,95,101,62</td>\n",
              "      <td>9,19,112,44,39</td>\n",
              "    </tr>\n",
              "    <tr>\n",
              "      <th>3</th>\n",
              "      <td>3</td>\n",
              "      <td>6833938207</td>\n",
              "      <td>5724033627</td>\n",
              "      <td>False</td>\n",
              "      <td>1667190914</td>\n",
              "      <td>1924</td>\n",
              "      <td>4830.0</td>\n",
              "      <td>2.0</td>\n",
              "      <td>7</td>\n",
              "      <td>22</td>\n",
              "      <td>81</td>\n",
              "      <td>3</td>\n",
              "      <td>154</td>\n",
              "      <td>74,41,105,75,59</td>\n",
              "      <td>25,93,107,120,87</td>\n",
              "    </tr>\n",
              "    <tr>\n",
              "      <th>4</th>\n",
              "      <td>4</td>\n",
              "      <td>6833945600</td>\n",
              "      <td>5724038589</td>\n",
              "      <td>False</td>\n",
              "      <td>1667191395</td>\n",
              "      <td>1797</td>\n",
              "      <td>4382.0</td>\n",
              "      <td>3.0</td>\n",
              "      <td>7</td>\n",
              "      <td>22</td>\n",
              "      <td>81</td>\n",
              "      <td>4</td>\n",
              "      <td>251</td>\n",
              "      <td>41,97,75,76,44</td>\n",
              "      <td>21,106,70,62,30</td>\n",
              "    </tr>\n",
              "    <tr>\n",
              "      <th>...</th>\n",
              "      <td>...</td>\n",
              "      <td>...</td>\n",
              "      <td>...</td>\n",
              "      <td>...</td>\n",
              "      <td>...</td>\n",
              "      <td>...</td>\n",
              "      <td>...</td>\n",
              "      <td>...</td>\n",
              "      <td>...</td>\n",
              "      <td>...</td>\n",
              "      <td>...</td>\n",
              "      <td>...</td>\n",
              "      <td>...</td>\n",
              "      <td>...</td>\n",
              "      <td>...</td>\n",
              "    </tr>\n",
              "    <tr>\n",
              "      <th>184</th>\n",
              "      <td>184</td>\n",
              "      <td>6841367208</td>\n",
              "      <td>5730746790</td>\n",
              "      <td>True</td>\n",
              "      <td>1667504271</td>\n",
              "      <td>1966</td>\n",
              "      <td>3975.0</td>\n",
              "      <td>5.0</td>\n",
              "      <td>7</td>\n",
              "      <td>22</td>\n",
              "      <td>81</td>\n",
              "      <td>8</td>\n",
              "      <td>274</td>\n",
              "      <td>9,6,57,129,25</td>\n",
              "      <td>5,11,69,72,93</td>\n",
              "    </tr>\n",
              "    <tr>\n",
              "      <th>185</th>\n",
              "      <td>185</td>\n",
              "      <td>6841374802</td>\n",
              "      <td>5730748124</td>\n",
              "      <td>True</td>\n",
              "      <td>1667504548</td>\n",
              "      <td>1785</td>\n",
              "      <td>3621.0</td>\n",
              "      <td>4.0</td>\n",
              "      <td>7</td>\n",
              "      <td>22</td>\n",
              "      <td>81</td>\n",
              "      <td>7</td>\n",
              "      <td>274</td>\n",
              "      <td>86,100,29,8,31</td>\n",
              "      <td>40,64,47,93,14</td>\n",
              "    </tr>\n",
              "    <tr>\n",
              "      <th>186</th>\n",
              "      <td>186</td>\n",
              "      <td>6841429713</td>\n",
              "      <td>5730756424</td>\n",
              "      <td>True</td>\n",
              "      <td>1667506589</td>\n",
              "      <td>1965</td>\n",
              "      <td>2637.0</td>\n",
              "      <td>1.0</td>\n",
              "      <td>7</td>\n",
              "      <td>22</td>\n",
              "      <td>81</td>\n",
              "      <td>6</td>\n",
              "      <td>274</td>\n",
              "      <td>91,43,72,129,89</td>\n",
              "      <td>100,9,25,5,10</td>\n",
              "    </tr>\n",
              "    <tr>\n",
              "      <th>187</th>\n",
              "      <td>187</td>\n",
              "      <td>6841429418</td>\n",
              "      <td>5730755862</td>\n",
              "      <td>False</td>\n",
              "      <td>1667506593</td>\n",
              "      <td>1919</td>\n",
              "      <td>6047.0</td>\n",
              "      <td>4.0</td>\n",
              "      <td>7</td>\n",
              "      <td>22</td>\n",
              "      <td>81</td>\n",
              "      <td>6</td>\n",
              "      <td>274</td>\n",
              "      <td>129,87,13,123,59</td>\n",
              "      <td>137,76,100,35,136</td>\n",
              "    </tr>\n",
              "    <tr>\n",
              "      <th>188</th>\n",
              "      <td>188</td>\n",
              "      <td>6841412116</td>\n",
              "      <td>5730756954</td>\n",
              "      <td>False</td>\n",
              "      <td>1667505937</td>\n",
              "      <td>2836</td>\n",
              "      <td>NaN</td>\n",
              "      <td>NaN</td>\n",
              "      <td>7</td>\n",
              "      <td>22</td>\n",
              "      <td>81</td>\n",
              "      <td>2</td>\n",
              "      <td>251</td>\n",
              "      <td>41,101,100,30,28</td>\n",
              "      <td>86,123,19,10,76</td>\n",
              "    </tr>\n",
              "  </tbody>\n",
              "</table>\n",
              "<p>189 rows × 15 columns</p>\n",
              "</div>"
            ],
            "text/plain": [
              "     Unnamed: 0    match_id  match_seq_num  radiant_win  start_time  duration  \\\n",
              "0             0  6833937813     5724027212         True  1667190893      1502   \n",
              "1             1  6833934314     5724024879        False  1667190637      1570   \n",
              "2             2  6833945514     5724035254        False  1667191374      1549   \n",
              "3             3  6833938207     5724033627        False  1667190914      1924   \n",
              "4             4  6833945600     5724038589        False  1667191395      1797   \n",
              "..          ...         ...            ...          ...         ...       ...   \n",
              "184         184  6841367208     5730746790         True  1667504271      1966   \n",
              "185         185  6841374802     5730748124         True  1667504548      1785   \n",
              "186         186  6841429713     5730756424         True  1667506589      1965   \n",
              "187         187  6841429418     5730755862        False  1667506593      1919   \n",
              "188         188  6841412116     5730756954        False  1667505937      2836   \n",
              "\n",
              "     avg_mmr  num_mmr  lobby_type  game_mode  avg_rank_tier  num_rank_tier  \\\n",
              "0     3167.0      1.0           7         22             81              3   \n",
              "1        NaN      NaN           7         22             81              5   \n",
              "2     5063.0      5.0           7          3             81              9   \n",
              "3     4830.0      2.0           7         22             81              3   \n",
              "4     4382.0      3.0           7         22             81              4   \n",
              "..       ...      ...         ...        ...            ...            ...   \n",
              "184   3975.0      5.0           7         22             81              8   \n",
              "185   3621.0      4.0           7         22             81              7   \n",
              "186   2637.0      1.0           7         22             81              6   \n",
              "187   6047.0      4.0           7         22             81              6   \n",
              "188      NaN      NaN           7         22             81              2   \n",
              "\n",
              "     cluster      radiant_team          dire_team  \n",
              "0        185  136,86,94,11,135     9,71,44,36,119  \n",
              "1        151    5,88,93,100,17      52,35,38,9,62  \n",
              "2        227   28,64,95,101,62     9,19,112,44,39  \n",
              "3        154   74,41,105,75,59   25,93,107,120,87  \n",
              "4        251    41,97,75,76,44    21,106,70,62,30  \n",
              "..       ...               ...                ...  \n",
              "184      274     9,6,57,129,25      5,11,69,72,93  \n",
              "185      274    86,100,29,8,31     40,64,47,93,14  \n",
              "186      274   91,43,72,129,89      100,9,25,5,10  \n",
              "187      274  129,87,13,123,59  137,76,100,35,136  \n",
              "188      251  41,101,100,30,28    86,123,19,10,76  \n",
              "\n",
              "[189 rows x 15 columns]"
            ]
          },
          "execution_count": 4,
          "metadata": {},
          "output_type": "execute_result"
        }
      ],
      "source": [
        "df"
      ]
    },
    {
      "cell_type": "code",
      "execution_count": 5,
      "metadata": {
        "colab": {
          "base_uri": "https://localhost:8080/",
          "height": 0
        },
        "id": "lTZDCiJiiMm2",
        "outputId": "006d2680-aa53-4f1e-94a8-c4a3d5ad7588"
      },
      "outputs": [
        {
          "data": {
            "text/html": [
              "<div>\n",
              "<style scoped>\n",
              "    .dataframe tbody tr th:only-of-type {\n",
              "        vertical-align: middle;\n",
              "    }\n",
              "\n",
              "    .dataframe tbody tr th {\n",
              "        vertical-align: top;\n",
              "    }\n",
              "\n",
              "    .dataframe thead th {\n",
              "        text-align: right;\n",
              "    }\n",
              "</style>\n",
              "<table border=\"1\" class=\"dataframe\">\n",
              "  <thead>\n",
              "    <tr style=\"text-align: right;\">\n",
              "      <th></th>\n",
              "      <th>match_id</th>\n",
              "      <th>match_seq_num</th>\n",
              "      <th>radiant_win</th>\n",
              "      <th>start_time</th>\n",
              "      <th>duration</th>\n",
              "      <th>avg_mmr</th>\n",
              "      <th>num_mmr</th>\n",
              "      <th>lobby_type</th>\n",
              "      <th>game_mode</th>\n",
              "      <th>avg_rank_tier</th>\n",
              "      <th>num_rank_tier</th>\n",
              "      <th>cluster</th>\n",
              "      <th>radiant_team</th>\n",
              "      <th>dire_team</th>\n",
              "    </tr>\n",
              "  </thead>\n",
              "  <tbody>\n",
              "    <tr>\n",
              "      <th>0</th>\n",
              "      <td>6833937813</td>\n",
              "      <td>5724027212</td>\n",
              "      <td>True</td>\n",
              "      <td>1667190893</td>\n",
              "      <td>1502</td>\n",
              "      <td>3167.0</td>\n",
              "      <td>1.0</td>\n",
              "      <td>7</td>\n",
              "      <td>22</td>\n",
              "      <td>81</td>\n",
              "      <td>3</td>\n",
              "      <td>185</td>\n",
              "      <td>136,86,94,11,135</td>\n",
              "      <td>9,71,44,36,119</td>\n",
              "    </tr>\n",
              "  </tbody>\n",
              "</table>\n",
              "</div>"
            ],
            "text/plain": [
              "     match_id  match_seq_num  radiant_win  start_time  duration  avg_mmr  \\\n",
              "0  6833937813     5724027212         True  1667190893      1502   3167.0   \n",
              "\n",
              "   num_mmr  lobby_type  game_mode  avg_rank_tier  num_rank_tier  cluster  \\\n",
              "0      1.0           7         22             81              3      185   \n",
              "\n",
              "       radiant_team       dire_team  \n",
              "0  136,86,94,11,135  9,71,44,36,119  "
            ]
          },
          "execution_count": 5,
          "metadata": {},
          "output_type": "execute_result"
        }
      ],
      "source": [
        "# Дроп колонки индекса от предыдущего сохранения. !!! Переделать сохранение index=False\n",
        "df = df.drop(df.columns[[0]], axis=1)\n",
        "df.head(1)"
      ]
    },
    {
      "cell_type": "code",
      "execution_count": 6,
      "metadata": {
        "id": "lA1G1kvLiMpS"
      },
      "outputs": [],
      "source": [
        "# API запрос с переводом json'а в датафрейм\n",
        "j = requests.get(f'https://api.opendota.com/api/publicMatches')\n",
        "publicMatches = j.json()\n",
        "df_publicmatches = pd.DataFrame.from_dict(publicMatches)"
      ]
    },
    {
      "cell_type": "code",
      "execution_count": 7,
      "metadata": {
        "colab": {
          "base_uri": "https://localhost:8080/"
        },
        "id": "uOnNxKKGiMrn",
        "outputId": "a0220769-57f6-4484-c2a5-c2a285b2d02d"
      },
      "outputs": [
        {
          "data": {
            "text/plain": [
              "(3, 14)"
            ]
          },
          "execution_count": 7,
          "metadata": {},
          "output_type": "execute_result"
        }
      ],
      "source": [
        "# Фильтрация высокоранговых матчей. Проверка количетсва строк\n",
        "df_publicmatches_hight_mmr = df_publicmatches.query('avg_rank_tier == 81')\n",
        "df_publicmatches_hight_mmr.shape"
      ]
    },
    {
      "cell_type": "code",
      "execution_count": 8,
      "metadata": {
        "colab": {
          "base_uri": "https://localhost:8080/"
        },
        "id": "GTgIAzjoiZ1n",
        "outputId": "983b84d4-4a64-49f5-ec80-38bad3eec592"
      },
      "outputs": [
        {
          "data": {
            "text/plain": [
              "(192, 14)"
            ]
          },
          "execution_count": 8,
          "metadata": {},
          "output_type": "execute_result"
        }
      ],
      "source": [
        "# Присоединения новых строк к датафрейму. Проверка количества строк\n",
        "frames = [df, df_publicmatches_hight_mmr]\n",
        "df = pd.concat(frames)\n",
        "df.shape"
      ]
    },
    {
      "cell_type": "code",
      "execution_count": 9,
      "metadata": {
        "id": "cQbvVNX_iflT"
      },
      "outputs": [],
      "source": [
        "# Создание массива и датафрейма с уникальными match_id для более сложного API запроса с более полной статистикой по матчу. Требует доработки\n",
        "# matches_array = df.match_id.unique()\n",
        "# matches_array = pd.DataFrame.from_dict(matches_array)\n",
        "# df_match_id = matches_array.rename(columns={ 0 : \"match_id\"})\n",
        "# df_match_id.shape"
      ]
    },
    {
      "cell_type": "code",
      "execution_count": 10,
      "metadata": {
        "id": "097GzZ6FSyco"
      },
      "outputs": [],
      "source": [
        "# Так как API запрос парсит недавние 100 матчей, рандомно. То могут встречаться дубликаты. Избавимся от них\n",
        "df = df.drop_duplicates(subset=['match_id'])"
      ]
    },
    {
      "cell_type": "code",
      "execution_count": 11,
      "metadata": {
        "id": "hlqsMDoJig3U"
      },
      "outputs": [],
      "source": [
        "# Сохранение \n",
        "filepath.parent.mkdir(parents=True, exist_ok=True)  \n",
        "df.to_csv(filepath)"
      ]
    },
    {
      "cell_type": "markdown",
      "metadata": {
        "id": "PUxZ3GkYcfep"
      },
      "source": [
        "#Трансформация"
      ]
    },
    {
      "cell_type": "code",
      "execution_count": 12,
      "metadata": {
        "id": "l6o459AIbsYa"
      },
      "outputs": [],
      "source": [
        "# Перевод в формат времени\n",
        "# df['start_time'] = pd.to_datetime(df['start_time'], unit='s')\n",
        "# df['duration'] = pd.to_datetime(df['duration'], unit=\"s\").dt.time"
      ]
    },
    {
      "cell_type": "code",
      "execution_count": 13,
      "metadata": {
        "id": "NafDhBEc4_Zl"
      },
      "outputs": [],
      "source": [
        "# Сплит колонок\n",
        "# df[['dtp_1', 'dtp_2', 'dtp_3', 'dtp_4', 'dtp_5']] = df['dire_team']. str.split(',' , expand= True )\n",
        "# df[['rtp_1', 'rtp_2', 'rtp_3', 'rtp_4', 'rtp_5']] = df['radiant_team']. str.split(',' , expand= True )"
      ]
    },
    {
      "cell_type": "markdown",
      "metadata": {
        "id": "t7vu9iEhcv1a"
      },
      "source": [
        "# Загрузка"
      ]
    },
    {
      "cell_type": "code",
      "execution_count": 14,
      "metadata": {
        "id": "tMIgR9lmcO0x"
      },
      "outputs": [],
      "source": [
        "# Подключение к БД\n",
        "# from sqlalchemy import create_engine\n",
        "# con = create_engine()"
      ]
    },
    {
      "cell_type": "code",
      "execution_count": 15,
      "metadata": {
        "id": "D13mVDTscTSy"
      },
      "outputs": [],
      "source": [
        "# Ускорение выгрузки\n",
        "# import csv\n",
        "# from io import StringIO\n",
        "\n",
        "# def psql_insert_copy(table, conn, keys, data_iter):\n",
        "#     # gets a DBAPI connection that can provide a cursor\n",
        "#     dbapi_conn = conn.connection\n",
        "#     with dbapi_conn.cursor() as cur:\n",
        "#         s_buf = StringIO()\n",
        "#         writer = csv.writer(s_buf)\n",
        "#         writer.writerows(data_iter)\n",
        "#         s_buf.seek(0)\n",
        "\n",
        "#         columns = ', '.join('\"{}\"'.format(k) for k in keys)\n",
        "#         if table.schema:\n",
        "#             table_name = '{}.{}'.format(table.schema, table.name)\n",
        "#         else:\n",
        "#             table_name = table.name\n",
        "\n",
        "#         sql = 'COPY {} ({}) FROM STDIN WITH CSV'.format(\n",
        "#             table_name, columns)\n",
        "#         cur.copy_expert(sql=sql, file=s_buf)"
      ]
    },
    {
      "cell_type": "code",
      "execution_count": 16,
      "metadata": {
        "id": "2wHwI1Oac3vt"
      },
      "outputs": [],
      "source": [
        "# df.to_sql('matches_stat', con, index=False, if_exists='replace', method=psql_insert_copy)"
      ]
    },
    {
      "cell_type": "code",
      "execution_count": null,
      "metadata": {},
      "outputs": [],
      "source": []
    }
  ],
  "metadata": {
    "colab": {
      "collapsed_sections": [],
      "provenance": []
    },
    "kernelspec": {
      "display_name": "Python 3.10.8 64-bit (microsoft store)",
      "language": "python",
      "name": "python3"
    },
    "language_info": {
      "codemirror_mode": {
        "name": "ipython",
        "version": 3
      },
      "file_extension": ".py",
      "mimetype": "text/x-python",
      "name": "python",
      "nbconvert_exporter": "python",
      "pygments_lexer": "ipython3",
      "version": "3.10.8"
    },
    "vscode": {
      "interpreter": {
        "hash": "eaecf2c64a75f65d2ef9c16f2ff716829069646ca4f300e3c7e35ae98b84d69a"
      }
    }
  },
  "nbformat": 4,
  "nbformat_minor": 0
}
